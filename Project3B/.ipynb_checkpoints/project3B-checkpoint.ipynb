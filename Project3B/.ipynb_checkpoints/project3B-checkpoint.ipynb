{
 "cells": [
  {
   "cell_type": "markdown",
   "id": "122bd846-465a-4063-9659-1055189469ad",
   "metadata": {},
   "source": [
    "# Project 3: By Tyler Graham"
   ]
  },
  {
   "cell_type": "markdown",
   "id": "5d4ecfe5-210e-44de-9939-58a704571205",
   "metadata": {},
   "source": [
    "## Part 1"
   ]
  },
  {
   "cell_type": "code",
   "execution_count": 48,
   "id": "70001b4f-4091-4d8c-95d0-165622e536e5",
   "metadata": {},
   "outputs": [],
   "source": [
    "import pandas as pd\n",
    "import matplotlib.pyplot as plt\n",
    "import seaborn as sns\n",
    "import numpy as np\n",
    "from decision_boundaries import linear_decision_boundary_classifier\n",
    "from sklearn.metrics import accuracy_score, confusion_matrix\n",
    "from sklearn.tree import DecisionTreeClassifier\n",
    "from sklearn.preprocessing import LabelEncoder\n",
    "from sklearn.model_selection import train_test_split\n",
    "import graphviz\n",
    "from sklearn.tree import export_graphviz\n",
    "from sklearn.linear_model import LogisticRegression\n",
    "from sklearn.linear_model import SGDClassifier"
   ]
  },
  {
   "cell_type": "markdown",
   "id": "581895b4-37a7-4545-9090-5c723f7cd26e",
   "metadata": {},
   "source": [
    "### Question 1: Load the mushrooms.csv file Download mushrooms.csv file as a DataFrame."
   ]
  },
  {
   "cell_type": "code",
   "execution_count": 27,
   "id": "8543bef3-2322-401b-bf41-22729a7b57dd",
   "metadata": {},
   "outputs": [],
   "source": [
    "mushroom = pd.read_csv(\"mushroom.csv\")"
   ]
  },
  {
   "cell_type": "markdown",
   "id": "8713ebd3-d759-4a37-80be-25c4bc670787",
   "metadata": {},
   "source": [
    "### Question 2: Using the output of the initial head(), info(), and describe() methods to get a sense of what variables are in the data. What are the variable types? How many values does each variable have?"
   ]
  },
  {
   "cell_type": "code",
   "execution_count": 28,
   "id": "b9e6959a-2216-4358-b395-c192a28e621e",
   "metadata": {},
   "outputs": [
    {
     "data": {
      "text/html": [
       "<div>\n",
       "<style scoped>\n",
       "    .dataframe tbody tr th:only-of-type {\n",
       "        vertical-align: middle;\n",
       "    }\n",
       "\n",
       "    .dataframe tbody tr th {\n",
       "        vertical-align: top;\n",
       "    }\n",
       "\n",
       "    .dataframe thead th {\n",
       "        text-align: right;\n",
       "    }\n",
       "</style>\n",
       "<table border=\"1\" class=\"dataframe\">\n",
       "  <thead>\n",
       "    <tr style=\"text-align: right;\">\n",
       "      <th></th>\n",
       "      <th>class</th>\n",
       "      <th>cap-shape</th>\n",
       "      <th>cap-surface</th>\n",
       "      <th>cap-color</th>\n",
       "      <th>bruises</th>\n",
       "      <th>odor</th>\n",
       "      <th>gill-attachment</th>\n",
       "      <th>gill-spacing</th>\n",
       "      <th>gill-size</th>\n",
       "      <th>gill-color</th>\n",
       "      <th>...</th>\n",
       "      <th>stalk-surface-below-ring</th>\n",
       "      <th>stalk-color-above-ring</th>\n",
       "      <th>stalk-color-below-ring</th>\n",
       "      <th>veil-type</th>\n",
       "      <th>veil-color</th>\n",
       "      <th>ring-number</th>\n",
       "      <th>ring-type</th>\n",
       "      <th>spore-print-color</th>\n",
       "      <th>population</th>\n",
       "      <th>habitat</th>\n",
       "    </tr>\n",
       "  </thead>\n",
       "  <tbody>\n",
       "    <tr>\n",
       "      <th>0</th>\n",
       "      <td>p</td>\n",
       "      <td>x</td>\n",
       "      <td>s</td>\n",
       "      <td>n</td>\n",
       "      <td>t</td>\n",
       "      <td>p</td>\n",
       "      <td>f</td>\n",
       "      <td>c</td>\n",
       "      <td>n</td>\n",
       "      <td>k</td>\n",
       "      <td>...</td>\n",
       "      <td>s</td>\n",
       "      <td>w</td>\n",
       "      <td>w</td>\n",
       "      <td>p</td>\n",
       "      <td>w</td>\n",
       "      <td>o</td>\n",
       "      <td>p</td>\n",
       "      <td>k</td>\n",
       "      <td>s</td>\n",
       "      <td>u</td>\n",
       "    </tr>\n",
       "    <tr>\n",
       "      <th>1</th>\n",
       "      <td>e</td>\n",
       "      <td>x</td>\n",
       "      <td>s</td>\n",
       "      <td>y</td>\n",
       "      <td>t</td>\n",
       "      <td>a</td>\n",
       "      <td>f</td>\n",
       "      <td>c</td>\n",
       "      <td>b</td>\n",
       "      <td>k</td>\n",
       "      <td>...</td>\n",
       "      <td>s</td>\n",
       "      <td>w</td>\n",
       "      <td>w</td>\n",
       "      <td>p</td>\n",
       "      <td>w</td>\n",
       "      <td>o</td>\n",
       "      <td>p</td>\n",
       "      <td>n</td>\n",
       "      <td>n</td>\n",
       "      <td>g</td>\n",
       "    </tr>\n",
       "    <tr>\n",
       "      <th>2</th>\n",
       "      <td>e</td>\n",
       "      <td>b</td>\n",
       "      <td>s</td>\n",
       "      <td>w</td>\n",
       "      <td>t</td>\n",
       "      <td>l</td>\n",
       "      <td>f</td>\n",
       "      <td>c</td>\n",
       "      <td>b</td>\n",
       "      <td>n</td>\n",
       "      <td>...</td>\n",
       "      <td>s</td>\n",
       "      <td>w</td>\n",
       "      <td>w</td>\n",
       "      <td>p</td>\n",
       "      <td>w</td>\n",
       "      <td>o</td>\n",
       "      <td>p</td>\n",
       "      <td>n</td>\n",
       "      <td>n</td>\n",
       "      <td>m</td>\n",
       "    </tr>\n",
       "    <tr>\n",
       "      <th>3</th>\n",
       "      <td>p</td>\n",
       "      <td>x</td>\n",
       "      <td>y</td>\n",
       "      <td>w</td>\n",
       "      <td>t</td>\n",
       "      <td>p</td>\n",
       "      <td>f</td>\n",
       "      <td>c</td>\n",
       "      <td>n</td>\n",
       "      <td>n</td>\n",
       "      <td>...</td>\n",
       "      <td>s</td>\n",
       "      <td>w</td>\n",
       "      <td>w</td>\n",
       "      <td>p</td>\n",
       "      <td>w</td>\n",
       "      <td>o</td>\n",
       "      <td>p</td>\n",
       "      <td>k</td>\n",
       "      <td>s</td>\n",
       "      <td>u</td>\n",
       "    </tr>\n",
       "    <tr>\n",
       "      <th>4</th>\n",
       "      <td>e</td>\n",
       "      <td>x</td>\n",
       "      <td>s</td>\n",
       "      <td>g</td>\n",
       "      <td>f</td>\n",
       "      <td>n</td>\n",
       "      <td>f</td>\n",
       "      <td>w</td>\n",
       "      <td>b</td>\n",
       "      <td>k</td>\n",
       "      <td>...</td>\n",
       "      <td>s</td>\n",
       "      <td>w</td>\n",
       "      <td>w</td>\n",
       "      <td>p</td>\n",
       "      <td>w</td>\n",
       "      <td>o</td>\n",
       "      <td>e</td>\n",
       "      <td>n</td>\n",
       "      <td>a</td>\n",
       "      <td>g</td>\n",
       "    </tr>\n",
       "  </tbody>\n",
       "</table>\n",
       "<p>5 rows × 23 columns</p>\n",
       "</div>"
      ],
      "text/plain": [
       "  class cap-shape cap-surface cap-color bruises odor gill-attachment  \\\n",
       "0     p         x           s         n       t    p               f   \n",
       "1     e         x           s         y       t    a               f   \n",
       "2     e         b           s         w       t    l               f   \n",
       "3     p         x           y         w       t    p               f   \n",
       "4     e         x           s         g       f    n               f   \n",
       "\n",
       "  gill-spacing gill-size gill-color  ... stalk-surface-below-ring  \\\n",
       "0            c         n          k  ...                        s   \n",
       "1            c         b          k  ...                        s   \n",
       "2            c         b          n  ...                        s   \n",
       "3            c         n          n  ...                        s   \n",
       "4            w         b          k  ...                        s   \n",
       "\n",
       "  stalk-color-above-ring stalk-color-below-ring veil-type veil-color  \\\n",
       "0                      w                      w         p          w   \n",
       "1                      w                      w         p          w   \n",
       "2                      w                      w         p          w   \n",
       "3                      w                      w         p          w   \n",
       "4                      w                      w         p          w   \n",
       "\n",
       "  ring-number ring-type spore-print-color population habitat  \n",
       "0           o         p                 k          s       u  \n",
       "1           o         p                 n          n       g  \n",
       "2           o         p                 n          n       m  \n",
       "3           o         p                 k          s       u  \n",
       "4           o         e                 n          a       g  \n",
       "\n",
       "[5 rows x 23 columns]"
      ]
     },
     "execution_count": 28,
     "metadata": {},
     "output_type": "execute_result"
    }
   ],
   "source": [
    "mushroom.head()"
   ]
  },
  {
   "cell_type": "code",
   "execution_count": 29,
   "id": "3f4496a9-94ca-445e-8450-9d5c622679fd",
   "metadata": {},
   "outputs": [
    {
     "name": "stdout",
     "output_type": "stream",
     "text": [
      "<class 'pandas.core.frame.DataFrame'>\n",
      "RangeIndex: 8124 entries, 0 to 8123\n",
      "Data columns (total 23 columns):\n",
      " #   Column                    Non-Null Count  Dtype \n",
      "---  ------                    --------------  ----- \n",
      " 0   class                     8124 non-null   object\n",
      " 1   cap-shape                 8124 non-null   object\n",
      " 2   cap-surface               8124 non-null   object\n",
      " 3   cap-color                 8124 non-null   object\n",
      " 4   bruises                   8124 non-null   object\n",
      " 5   odor                      8124 non-null   object\n",
      " 6   gill-attachment           8124 non-null   object\n",
      " 7   gill-spacing              8124 non-null   object\n",
      " 8   gill-size                 8124 non-null   object\n",
      " 9   gill-color                8124 non-null   object\n",
      " 10  stalk-shape               8124 non-null   object\n",
      " 11  stalk-root                8124 non-null   object\n",
      " 12  stalk-surface-above-ring  8124 non-null   object\n",
      " 13  stalk-surface-below-ring  8124 non-null   object\n",
      " 14  stalk-color-above-ring    8124 non-null   object\n",
      " 15  stalk-color-below-ring    8124 non-null   object\n",
      " 16  veil-type                 8124 non-null   object\n",
      " 17  veil-color                8124 non-null   object\n",
      " 18  ring-number               8124 non-null   object\n",
      " 19  ring-type                 8124 non-null   object\n",
      " 20  spore-print-color         8124 non-null   object\n",
      " 21  population                8124 non-null   object\n",
      " 22  habitat                   8124 non-null   object\n",
      "dtypes: object(23)\n",
      "memory usage: 1.4+ MB\n"
     ]
    }
   ],
   "source": [
    "mushroom.info()"
   ]
  },
  {
   "cell_type": "code",
   "execution_count": 30,
   "id": "d039a638-5a20-4104-a170-5a7ae919addd",
   "metadata": {},
   "outputs": [
    {
     "data": {
      "text/html": [
       "<div>\n",
       "<style scoped>\n",
       "    .dataframe tbody tr th:only-of-type {\n",
       "        vertical-align: middle;\n",
       "    }\n",
       "\n",
       "    .dataframe tbody tr th {\n",
       "        vertical-align: top;\n",
       "    }\n",
       "\n",
       "    .dataframe thead th {\n",
       "        text-align: right;\n",
       "    }\n",
       "</style>\n",
       "<table border=\"1\" class=\"dataframe\">\n",
       "  <thead>\n",
       "    <tr style=\"text-align: right;\">\n",
       "      <th></th>\n",
       "      <th>class</th>\n",
       "      <th>cap-shape</th>\n",
       "      <th>cap-surface</th>\n",
       "      <th>cap-color</th>\n",
       "      <th>bruises</th>\n",
       "      <th>odor</th>\n",
       "      <th>gill-attachment</th>\n",
       "      <th>gill-spacing</th>\n",
       "      <th>gill-size</th>\n",
       "      <th>gill-color</th>\n",
       "      <th>...</th>\n",
       "      <th>stalk-surface-below-ring</th>\n",
       "      <th>stalk-color-above-ring</th>\n",
       "      <th>stalk-color-below-ring</th>\n",
       "      <th>veil-type</th>\n",
       "      <th>veil-color</th>\n",
       "      <th>ring-number</th>\n",
       "      <th>ring-type</th>\n",
       "      <th>spore-print-color</th>\n",
       "      <th>population</th>\n",
       "      <th>habitat</th>\n",
       "    </tr>\n",
       "  </thead>\n",
       "  <tbody>\n",
       "    <tr>\n",
       "      <th>count</th>\n",
       "      <td>8124</td>\n",
       "      <td>8124</td>\n",
       "      <td>8124</td>\n",
       "      <td>8124</td>\n",
       "      <td>8124</td>\n",
       "      <td>8124</td>\n",
       "      <td>8124</td>\n",
       "      <td>8124</td>\n",
       "      <td>8124</td>\n",
       "      <td>8124</td>\n",
       "      <td>...</td>\n",
       "      <td>8124</td>\n",
       "      <td>8124</td>\n",
       "      <td>8124</td>\n",
       "      <td>8124</td>\n",
       "      <td>8124</td>\n",
       "      <td>8124</td>\n",
       "      <td>8124</td>\n",
       "      <td>8124</td>\n",
       "      <td>8124</td>\n",
       "      <td>8124</td>\n",
       "    </tr>\n",
       "    <tr>\n",
       "      <th>unique</th>\n",
       "      <td>2</td>\n",
       "      <td>6</td>\n",
       "      <td>4</td>\n",
       "      <td>10</td>\n",
       "      <td>2</td>\n",
       "      <td>9</td>\n",
       "      <td>2</td>\n",
       "      <td>2</td>\n",
       "      <td>2</td>\n",
       "      <td>12</td>\n",
       "      <td>...</td>\n",
       "      <td>4</td>\n",
       "      <td>9</td>\n",
       "      <td>9</td>\n",
       "      <td>1</td>\n",
       "      <td>4</td>\n",
       "      <td>3</td>\n",
       "      <td>5</td>\n",
       "      <td>9</td>\n",
       "      <td>6</td>\n",
       "      <td>7</td>\n",
       "    </tr>\n",
       "    <tr>\n",
       "      <th>top</th>\n",
       "      <td>e</td>\n",
       "      <td>x</td>\n",
       "      <td>y</td>\n",
       "      <td>n</td>\n",
       "      <td>f</td>\n",
       "      <td>n</td>\n",
       "      <td>f</td>\n",
       "      <td>c</td>\n",
       "      <td>b</td>\n",
       "      <td>b</td>\n",
       "      <td>...</td>\n",
       "      <td>s</td>\n",
       "      <td>w</td>\n",
       "      <td>w</td>\n",
       "      <td>p</td>\n",
       "      <td>w</td>\n",
       "      <td>o</td>\n",
       "      <td>p</td>\n",
       "      <td>w</td>\n",
       "      <td>v</td>\n",
       "      <td>d</td>\n",
       "    </tr>\n",
       "    <tr>\n",
       "      <th>freq</th>\n",
       "      <td>4208</td>\n",
       "      <td>3656</td>\n",
       "      <td>3244</td>\n",
       "      <td>2284</td>\n",
       "      <td>4748</td>\n",
       "      <td>3528</td>\n",
       "      <td>7914</td>\n",
       "      <td>6812</td>\n",
       "      <td>5612</td>\n",
       "      <td>1728</td>\n",
       "      <td>...</td>\n",
       "      <td>4936</td>\n",
       "      <td>4464</td>\n",
       "      <td>4384</td>\n",
       "      <td>8124</td>\n",
       "      <td>7924</td>\n",
       "      <td>7488</td>\n",
       "      <td>3968</td>\n",
       "      <td>2388</td>\n",
       "      <td>4040</td>\n",
       "      <td>3148</td>\n",
       "    </tr>\n",
       "  </tbody>\n",
       "</table>\n",
       "<p>4 rows × 23 columns</p>\n",
       "</div>"
      ],
      "text/plain": [
       "       class cap-shape cap-surface cap-color bruises  odor gill-attachment  \\\n",
       "count   8124      8124        8124      8124    8124  8124            8124   \n",
       "unique     2         6           4        10       2     9               2   \n",
       "top        e         x           y         n       f     n               f   \n",
       "freq    4208      3656        3244      2284    4748  3528            7914   \n",
       "\n",
       "       gill-spacing gill-size gill-color  ... stalk-surface-below-ring  \\\n",
       "count          8124      8124       8124  ...                     8124   \n",
       "unique            2         2         12  ...                        4   \n",
       "top               c         b          b  ...                        s   \n",
       "freq           6812      5612       1728  ...                     4936   \n",
       "\n",
       "       stalk-color-above-ring stalk-color-below-ring veil-type veil-color  \\\n",
       "count                    8124                   8124      8124       8124   \n",
       "unique                      9                      9         1          4   \n",
       "top                         w                      w         p          w   \n",
       "freq                     4464                   4384      8124       7924   \n",
       "\n",
       "       ring-number ring-type spore-print-color population habitat  \n",
       "count         8124      8124              8124       8124    8124  \n",
       "unique           3         5                 9          6       7  \n",
       "top              o         p                 w          v       d  \n",
       "freq          7488      3968              2388       4040    3148  \n",
       "\n",
       "[4 rows x 23 columns]"
      ]
     },
     "execution_count": 30,
     "metadata": {},
     "output_type": "execute_result"
    }
   ],
   "source": [
    "mushroom.describe()"
   ]
  },
  {
   "cell_type": "markdown",
   "id": "6a388190-dc68-40fa-b8a5-ce06c2b3a7ee",
   "metadata": {},
   "source": [
    "There is 22 variables with 8124 entries for each of these variables. "
   ]
  },
  {
   "cell_type": "markdown",
   "id": "a9f7c47b-95ec-4454-a60f-ba46e7522183",
   "metadata": {},
   "source": [
    "### Question 3: Which column indicates whether the mushrooms are poison or editable? This will be the output variable that we are predicting."
   ]
  },
  {
   "cell_type": "markdown",
   "id": "459ddfd6-35ba-492e-861d-905539e653a0",
   "metadata": {},
   "source": [
    "The first column labeled as \"class\" indicates whether the mushroom is \"p\" or posionous or \"e\" or editable. "
   ]
  },
  {
   "cell_type": "markdown",
   "id": "98c384b7-b6b6-4473-9870-c94518c05350",
   "metadata": {},
   "source": [
    "### Question 4: Which columns can be used as the input variables?"
   ]
  },
  {
   "cell_type": "markdown",
   "id": "ef2579c9-c080-403e-aeff-04673b2154d7",
   "metadata": {},
   "source": [
    "Input variables for mushrooms would be odor and color."
   ]
  },
  {
   "cell_type": "markdown",
   "id": "68f6fa4e-0668-412a-9056-4f4bfb428f65",
   "metadata": {},
   "source": [
    "### Question 5: Convert all of the variables to categorical types."
   ]
  },
  {
   "cell_type": "code",
   "execution_count": 31,
   "id": "4d591e6e-75f2-4e1d-bed2-512f58978163",
   "metadata": {},
   "outputs": [
    {
     "name": "stdout",
     "output_type": "stream",
     "text": [
      "<class 'pandas.core.frame.DataFrame'>\n",
      "RangeIndex: 8124 entries, 0 to 8123\n",
      "Data columns (total 23 columns):\n",
      " #   Column                    Non-Null Count  Dtype   \n",
      "---  ------                    --------------  -----   \n",
      " 0   class                     8124 non-null   category\n",
      " 1   cap-shape                 8124 non-null   category\n",
      " 2   cap-surface               8124 non-null   category\n",
      " 3   cap-color                 8124 non-null   category\n",
      " 4   bruises                   8124 non-null   category\n",
      " 5   odor                      8124 non-null   category\n",
      " 6   gill-attachment           8124 non-null   category\n",
      " 7   gill-spacing              8124 non-null   category\n",
      " 8   gill-size                 8124 non-null   category\n",
      " 9   gill-color                8124 non-null   category\n",
      " 10  stalk-shape               8124 non-null   category\n",
      " 11  stalk-root                8124 non-null   category\n",
      " 12  stalk-surface-above-ring  8124 non-null   category\n",
      " 13  stalk-surface-below-ring  8124 non-null   category\n",
      " 14  stalk-color-above-ring    8124 non-null   category\n",
      " 15  stalk-color-below-ring    8124 non-null   category\n",
      " 16  veil-type                 8124 non-null   category\n",
      " 17  veil-color                8124 non-null   category\n",
      " 18  ring-number               8124 non-null   category\n",
      " 19  ring-type                 8124 non-null   category\n",
      " 20  spore-print-color         8124 non-null   category\n",
      " 21  population                8124 non-null   category\n",
      " 22  habitat                   8124 non-null   category\n",
      "dtypes: category(23)\n",
      "memory usage: 187.8 KB\n"
     ]
    }
   ],
   "source": [
    "variables = [\"class\", \"cap-shape\", \"cap-surface\", \"cap-color\",\t\"bruises\",\t\"odor\",\t\"gill-attachment\", \"gill-spacing\", \"gill-size\", \"gill-color\", \"stalk-shape\", \"stalk-root\", \"stalk-surface-above-ring\", \"stalk-surface-below-ring\", \"stalk-color-above-ring\", \"stalk-color-below-ring\", \"veil-type\",\t\"veil-color\", \"ring-number\", \"ring-type\", \"spore-print-color\", \"population\", \"habitat\"]\n",
    "mushroom = mushroom.astype('category')\n",
    "mushroom.info()"
   ]
  },
  {
   "cell_type": "markdown",
   "id": "f7bca7ff-ed69-40a1-8434-669df98359de",
   "metadata": {},
   "source": [
    "## Part 2"
   ]
  },
  {
   "cell_type": "markdown",
   "id": "d06b53f9-df4a-47ad-9e45-d9027f96d031",
   "metadata": {},
   "source": [
    "### Question 1: Create the label vector using the LabelEncoder class from scikit-learn to do this. "
   ]
  },
  {
   "cell_type": "code",
   "execution_count": 32,
   "id": "510a0164-af6c-4abf-ab8e-479c7f7a0f0c",
   "metadata": {},
   "outputs": [],
   "source": [
    "label_encoder = LabelEncoder()\n",
    "\n",
    "mushroom_labeled = label_encoder.fit_transform(mushroom[\"class\"])"
   ]
  },
  {
   "cell_type": "code",
   "execution_count": 33,
   "id": "49c724c9-2b37-4050-bb69-1c021836a2c5",
   "metadata": {},
   "outputs": [
    {
     "name": "stdout",
     "output_type": "stream",
     "text": [
      "[1 0 0 ... 0 1 0]\n"
     ]
    }
   ],
   "source": [
    "print(mushroom_labeled)"
   ]
  },
  {
   "cell_type": "markdown",
   "id": "e52a74bf-f72e-489d-8709-72c468f1d5c1",
   "metadata": {},
   "source": [
    "## Part 3"
   ]
  },
  {
   "cell_type": "markdown",
   "id": "dc87696c-5d2f-4e3e-b09a-93a886844135",
   "metadata": {},
   "source": [
    "### Question 1: To convert the categorical variables: use Panda's get_dummies() function to create a new DataFrame of dummy columns for each categorical column, append the DataFrames to a list, concatenate all of the resulting DataFrames horizontally into a single DataFrame using the Pandas concat()function. Review the resulting DataFrame using the head() and info() methods."
   ]
  },
  {
   "cell_type": "code",
   "execution_count": 34,
   "id": "e4b30e7c-9341-4c2f-b743-e09fa072183a",
   "metadata": {},
   "outputs": [
    {
     "data": {
      "text/html": [
       "<div>\n",
       "<style scoped>\n",
       "    .dataframe tbody tr th:only-of-type {\n",
       "        vertical-align: middle;\n",
       "    }\n",
       "\n",
       "    .dataframe tbody tr th {\n",
       "        vertical-align: top;\n",
       "    }\n",
       "\n",
       "    .dataframe thead th {\n",
       "        text-align: right;\n",
       "    }\n",
       "</style>\n",
       "<table border=\"1\" class=\"dataframe\">\n",
       "  <thead>\n",
       "    <tr style=\"text-align: right;\">\n",
       "      <th></th>\n",
       "      <th>class_e</th>\n",
       "      <th>class_p</th>\n",
       "      <th>cap-shape_b</th>\n",
       "      <th>cap-shape_c</th>\n",
       "      <th>cap-shape_f</th>\n",
       "      <th>cap-shape_k</th>\n",
       "      <th>cap-shape_s</th>\n",
       "      <th>cap-shape_x</th>\n",
       "      <th>cap-surface_f</th>\n",
       "      <th>cap-surface_g</th>\n",
       "      <th>...</th>\n",
       "      <th>population_s</th>\n",
       "      <th>population_v</th>\n",
       "      <th>population_y</th>\n",
       "      <th>habitat_d</th>\n",
       "      <th>habitat_g</th>\n",
       "      <th>habitat_l</th>\n",
       "      <th>habitat_m</th>\n",
       "      <th>habitat_p</th>\n",
       "      <th>habitat_u</th>\n",
       "      <th>habitat_w</th>\n",
       "    </tr>\n",
       "  </thead>\n",
       "  <tbody>\n",
       "    <tr>\n",
       "      <th>0</th>\n",
       "      <td>False</td>\n",
       "      <td>True</td>\n",
       "      <td>False</td>\n",
       "      <td>False</td>\n",
       "      <td>False</td>\n",
       "      <td>False</td>\n",
       "      <td>False</td>\n",
       "      <td>True</td>\n",
       "      <td>False</td>\n",
       "      <td>False</td>\n",
       "      <td>...</td>\n",
       "      <td>True</td>\n",
       "      <td>False</td>\n",
       "      <td>False</td>\n",
       "      <td>False</td>\n",
       "      <td>False</td>\n",
       "      <td>False</td>\n",
       "      <td>False</td>\n",
       "      <td>False</td>\n",
       "      <td>True</td>\n",
       "      <td>False</td>\n",
       "    </tr>\n",
       "    <tr>\n",
       "      <th>1</th>\n",
       "      <td>True</td>\n",
       "      <td>False</td>\n",
       "      <td>False</td>\n",
       "      <td>False</td>\n",
       "      <td>False</td>\n",
       "      <td>False</td>\n",
       "      <td>False</td>\n",
       "      <td>True</td>\n",
       "      <td>False</td>\n",
       "      <td>False</td>\n",
       "      <td>...</td>\n",
       "      <td>False</td>\n",
       "      <td>False</td>\n",
       "      <td>False</td>\n",
       "      <td>False</td>\n",
       "      <td>True</td>\n",
       "      <td>False</td>\n",
       "      <td>False</td>\n",
       "      <td>False</td>\n",
       "      <td>False</td>\n",
       "      <td>False</td>\n",
       "    </tr>\n",
       "    <tr>\n",
       "      <th>2</th>\n",
       "      <td>True</td>\n",
       "      <td>False</td>\n",
       "      <td>True</td>\n",
       "      <td>False</td>\n",
       "      <td>False</td>\n",
       "      <td>False</td>\n",
       "      <td>False</td>\n",
       "      <td>False</td>\n",
       "      <td>False</td>\n",
       "      <td>False</td>\n",
       "      <td>...</td>\n",
       "      <td>False</td>\n",
       "      <td>False</td>\n",
       "      <td>False</td>\n",
       "      <td>False</td>\n",
       "      <td>False</td>\n",
       "      <td>False</td>\n",
       "      <td>True</td>\n",
       "      <td>False</td>\n",
       "      <td>False</td>\n",
       "      <td>False</td>\n",
       "    </tr>\n",
       "    <tr>\n",
       "      <th>3</th>\n",
       "      <td>False</td>\n",
       "      <td>True</td>\n",
       "      <td>False</td>\n",
       "      <td>False</td>\n",
       "      <td>False</td>\n",
       "      <td>False</td>\n",
       "      <td>False</td>\n",
       "      <td>True</td>\n",
       "      <td>False</td>\n",
       "      <td>False</td>\n",
       "      <td>...</td>\n",
       "      <td>True</td>\n",
       "      <td>False</td>\n",
       "      <td>False</td>\n",
       "      <td>False</td>\n",
       "      <td>False</td>\n",
       "      <td>False</td>\n",
       "      <td>False</td>\n",
       "      <td>False</td>\n",
       "      <td>True</td>\n",
       "      <td>False</td>\n",
       "    </tr>\n",
       "    <tr>\n",
       "      <th>4</th>\n",
       "      <td>True</td>\n",
       "      <td>False</td>\n",
       "      <td>False</td>\n",
       "      <td>False</td>\n",
       "      <td>False</td>\n",
       "      <td>False</td>\n",
       "      <td>False</td>\n",
       "      <td>True</td>\n",
       "      <td>False</td>\n",
       "      <td>False</td>\n",
       "      <td>...</td>\n",
       "      <td>False</td>\n",
       "      <td>False</td>\n",
       "      <td>False</td>\n",
       "      <td>False</td>\n",
       "      <td>True</td>\n",
       "      <td>False</td>\n",
       "      <td>False</td>\n",
       "      <td>False</td>\n",
       "      <td>False</td>\n",
       "      <td>False</td>\n",
       "    </tr>\n",
       "  </tbody>\n",
       "</table>\n",
       "<p>5 rows × 119 columns</p>\n",
       "</div>"
      ],
      "text/plain": [
       "   class_e  class_p  cap-shape_b  cap-shape_c  cap-shape_f  cap-shape_k  \\\n",
       "0    False     True        False        False        False        False   \n",
       "1     True    False        False        False        False        False   \n",
       "2     True    False         True        False        False        False   \n",
       "3    False     True        False        False        False        False   \n",
       "4     True    False        False        False        False        False   \n",
       "\n",
       "   cap-shape_s  cap-shape_x  cap-surface_f  cap-surface_g  ...  population_s  \\\n",
       "0        False         True          False          False  ...          True   \n",
       "1        False         True          False          False  ...         False   \n",
       "2        False        False          False          False  ...         False   \n",
       "3        False         True          False          False  ...          True   \n",
       "4        False         True          False          False  ...         False   \n",
       "\n",
       "   population_v  population_y  habitat_d  habitat_g  habitat_l  habitat_m  \\\n",
       "0         False         False      False      False      False      False   \n",
       "1         False         False      False       True      False      False   \n",
       "2         False         False      False      False      False       True   \n",
       "3         False         False      False      False      False      False   \n",
       "4         False         False      False       True      False      False   \n",
       "\n",
       "   habitat_p  habitat_u  habitat_w  \n",
       "0      False       True      False  \n",
       "1      False      False      False  \n",
       "2      False      False      False  \n",
       "3      False       True      False  \n",
       "4      False      False      False  \n",
       "\n",
       "[5 rows x 119 columns]"
      ]
     },
     "execution_count": 34,
     "metadata": {},
     "output_type": "execute_result"
    }
   ],
   "source": [
    "mushroom_dummies = pd.get_dummies(mushroom)\n",
    "mushroom_dummies.head()"
   ]
  },
  {
   "cell_type": "code",
   "execution_count": 35,
   "id": "008fe127-d3c6-49cf-b87e-040afd9232e6",
   "metadata": {
    "scrolled": true
   },
   "outputs": [
    {
     "name": "stdout",
     "output_type": "stream",
     "text": [
      "[      class_e  class_p  cap-shape_b  cap-shape_c  cap-shape_f  cap-shape_k  \\\n",
      "0       False     True        False        False        False        False   \n",
      "1        True    False        False        False        False        False   \n",
      "2        True    False         True        False        False        False   \n",
      "3       False     True        False        False        False        False   \n",
      "4        True    False        False        False        False        False   \n",
      "...       ...      ...          ...          ...          ...          ...   \n",
      "8119     True    False        False        False        False         True   \n",
      "8120     True    False        False        False        False        False   \n",
      "8121     True    False        False        False         True        False   \n",
      "8122    False     True        False        False        False         True   \n",
      "8123     True    False        False        False        False        False   \n",
      "\n",
      "      cap-shape_s  cap-shape_x  cap-surface_f  cap-surface_g  ...  \\\n",
      "0           False         True          False          False  ...   \n",
      "1           False         True          False          False  ...   \n",
      "2           False        False          False          False  ...   \n",
      "3           False         True          False          False  ...   \n",
      "4           False         True          False          False  ...   \n",
      "...           ...          ...            ...            ...  ...   \n",
      "8119        False        False          False          False  ...   \n",
      "8120        False         True          False          False  ...   \n",
      "8121        False        False          False          False  ...   \n",
      "8122        False        False          False          False  ...   \n",
      "8123        False         True          False          False  ...   \n",
      "\n",
      "      population_s  population_v  population_y  habitat_d  habitat_g  \\\n",
      "0             True         False         False      False      False   \n",
      "1            False         False         False      False       True   \n",
      "2            False         False         False      False      False   \n",
      "3             True         False         False      False      False   \n",
      "4            False         False         False      False       True   \n",
      "...            ...           ...           ...        ...        ...   \n",
      "8119         False         False         False      False      False   \n",
      "8120         False          True         False      False      False   \n",
      "8121         False         False         False      False      False   \n",
      "8122         False          True         False      False      False   \n",
      "8123         False         False         False      False      False   \n",
      "\n",
      "      habitat_l  habitat_m  habitat_p  habitat_u  habitat_w  \n",
      "0         False      False      False       True      False  \n",
      "1         False      False      False      False      False  \n",
      "2         False       True      False      False      False  \n",
      "3         False      False      False       True      False  \n",
      "4         False      False      False      False      False  \n",
      "...         ...        ...        ...        ...        ...  \n",
      "8119       True      False      False      False      False  \n",
      "8120       True      False      False      False      False  \n",
      "8121       True      False      False      False      False  \n",
      "8122       True      False      False      False      False  \n",
      "8123       True      False      False      False      False  \n",
      "\n",
      "[8124 rows x 119 columns]]\n",
      "<class 'pandas.core.frame.DataFrame'>\n",
      "RangeIndex: 8124 entries, 0 to 8123\n",
      "Columns: 119 entries, class_e to habitat_w\n",
      "dtypes: bool(119)\n",
      "memory usage: 944.2 KB\n"
     ]
    }
   ],
   "source": [
    "mushroom_list = []\n",
    "mushroom_list.append(mushroom_dummies)\n",
    "print(mushroom_list)\n",
    "mushroom_pd = pd.concat(mushroom_list, axis=1)\n",
    "mushroom_pd.head()\n",
    "mushroom_pd.info()"
   ]
  },
  {
   "cell_type": "markdown",
   "id": "38fcd303-80fc-4c66-8ac2-8347df474c1a",
   "metadata": {},
   "source": [
    "### Part 4: Use scikit-learn's train_test_split() function to divide the feature matrix and label vector into training (75%) and testing (25%) sets. The function will partition the rows of the matrix and vector consistently so that they continue to match up. It is important to pass the labels to the stratify parameter. The function will use the labels to ensure that the samples are partitioned so that the ratios of edible and poisonous mushrooms in the training and testing sets are match the ratio from the original data set."
   ]
  },
  {
   "cell_type": "code",
   "execution_count": 36,
   "id": "094c27d2-3d90-46be-a44b-db936ddbc7be",
   "metadata": {},
   "outputs": [],
   "source": [
    "X_train, X_test, y_train, y_test = train_test_split(mushroom_pd, mushroom_labeled, test_size=0.25, random_state=42)"
   ]
  },
  {
   "cell_type": "markdown",
   "id": "03518c72-8fe6-4db1-a3ec-c5afd71a7070",
   "metadata": {},
   "source": [
    "## Part 4"
   ]
  },
  {
   "cell_type": "markdown",
   "id": "42c7eba0-be51-4a05-bc20-c93d1abdd82a",
   "metadata": {},
   "source": [
    "### Question 1: Train a Decision Tree model using the DecisionTreeClassifier class using the training set."
   ]
  },
  {
   "cell_type": "code",
   "execution_count": 37,
   "id": "eb22d7b8-7178-4dd3-91bb-d3c6ace2b739",
   "metadata": {},
   "outputs": [],
   "source": [
    "clf = DecisionTreeClassifier()\n",
    "clf = clf.fit(X_train, y_train)"
   ]
  },
  {
   "cell_type": "markdown",
   "id": "6f70bb00-8585-4a2a-9ee7-bddb6c6761af",
   "metadata": {},
   "source": [
    "### Question 3: Predict the labels for the testing set."
   ]
  },
  {
   "cell_type": "code",
   "execution_count": 38,
   "id": "8b9c1d3f-014d-4f17-a5d3-8d3a5409a3d0",
   "metadata": {},
   "outputs": [],
   "source": [
    "prediction = clf.predict(X_test)"
   ]
  },
  {
   "cell_type": "markdown",
   "id": "dd27b856-a4a2-409d-95d0-f7491a4c0032",
   "metadata": {},
   "source": [
    "### Question 4: Calculate the accuracy score and a confusion matrix from the predicted and true labels. This data set is relatively easy, so you should achieve 100% accuracy and your confusion matrix should only have non-zero entries on the diagonal."
   ]
  },
  {
   "cell_type": "code",
   "execution_count": 39,
   "id": "6b5f9a66-5eab-4a77-9a9b-1a91837911d0",
   "metadata": {},
   "outputs": [
    {
     "name": "stdout",
     "output_type": "stream",
     "text": [
      "1.0\n"
     ]
    }
   ],
   "source": [
    "accuracy = accuracy_score(y_test, prediction)\n",
    "print(accuracy)"
   ]
  },
  {
   "cell_type": "code",
   "execution_count": 40,
   "id": "ce6e9181-f292-494e-bc11-06965d1004cd",
   "metadata": {},
   "outputs": [
    {
     "name": "stdout",
     "output_type": "stream",
     "text": [
      "[[1040    0]\n",
      " [   0  991]]\n"
     ]
    }
   ],
   "source": [
    "confusion = confusion_matrix(y_test, prediction)\n",
    "print(confusion)"
   ]
  },
  {
   "cell_type": "markdown",
   "id": "6f3a603f-2c64-4ad0-950f-41334470c34b",
   "metadata": {},
   "source": [
    "### Question 5: Plot the Decision Tree using the following code snippet"
   ]
  },
  {
   "cell_type": "code",
   "execution_count": 41,
   "id": "9c472d4d-c523-4c61-b541-1145387a1d10",
   "metadata": {},
   "outputs": [
    {
     "data": {
      "image/svg+xml": [
       "<?xml version=\"1.0\" encoding=\"UTF-8\" standalone=\"no\"?>\n",
       "<!DOCTYPE svg PUBLIC \"-//W3C//DTD SVG 1.1//EN\"\n",
       " \"http://www.w3.org/Graphics/SVG/1.1/DTD/svg11.dtd\">\n",
       "<!-- Generated by graphviz version 9.0.0 (20230911.1827)\n",
       " -->\n",
       "<!-- Title: Tree Pages: 1 -->\n",
       "<svg width=\"270pt\" height=\"165pt\"\n",
       " viewBox=\"0.00 0.00 269.75 165.00\" xmlns=\"http://www.w3.org/2000/svg\" xmlns:xlink=\"http://www.w3.org/1999/xlink\">\n",
       "<g id=\"graph0\" class=\"graph\" transform=\"scale(1 1) rotate(0) translate(4 161)\">\n",
       "<title>Tree</title>\n",
       "<polygon fill=\"white\" stroke=\"none\" points=\"-4,4 -4,-161 265.75,-161 265.75,4 -4,4\"/>\n",
       "<!-- 0 -->\n",
       "<g id=\"node1\" class=\"node\">\n",
       "<title>0</title>\n",
       "<path fill=\"none\" stroke=\"black\" d=\"M184.62,-157C184.62,-157 77.12,-157 77.12,-157 71.12,-157 65.12,-151 65.12,-145 65.12,-145 65.12,-101 65.12,-101 65.12,-95 71.12,-89 77.12,-89 77.12,-89 184.62,-89 184.62,-89 190.62,-89 196.62,-95 196.62,-101 196.62,-101 196.62,-145 196.62,-145 196.62,-151 190.62,-157 184.62,-157\"/>\n",
       "<text text-anchor=\"middle\" x=\"130.88\" y=\"-139.7\" font-family=\"Helvetica,sans-Serif\" font-size=\"14.00\">class_p &lt;= 0.5</text>\n",
       "<text text-anchor=\"middle\" x=\"130.88\" y=\"-124.7\" font-family=\"Helvetica,sans-Serif\" font-size=\"14.00\">samples = 100.0%</text>\n",
       "<text text-anchor=\"middle\" x=\"130.88\" y=\"-109.7\" font-family=\"Helvetica,sans-Serif\" font-size=\"14.00\">value = [0.52, 0.48]</text>\n",
       "<text text-anchor=\"middle\" x=\"130.88\" y=\"-94.7\" font-family=\"Helvetica,sans-Serif\" font-size=\"14.00\">class = e</text>\n",
       "</g>\n",
       "<!-- 1 -->\n",
       "<g id=\"node2\" class=\"node\">\n",
       "<title>1</title>\n",
       "<path fill=\"none\" stroke=\"black\" d=\"M109.75,-53C109.75,-53 12,-53 12,-53 6,-53 0,-47 0,-41 0,-41 0,-12 0,-12 0,-6 6,0 12,0 12,0 109.75,0 109.75,0 115.75,0 121.75,-6 121.75,-12 121.75,-12 121.75,-41 121.75,-41 121.75,-47 115.75,-53 109.75,-53\"/>\n",
       "<text text-anchor=\"middle\" x=\"60.88\" y=\"-35.7\" font-family=\"Helvetica,sans-Serif\" font-size=\"14.00\">samples = 52.0%</text>\n",
       "<text text-anchor=\"middle\" x=\"60.88\" y=\"-20.7\" font-family=\"Helvetica,sans-Serif\" font-size=\"14.00\">value = [1.0, 0.0]</text>\n",
       "<text text-anchor=\"middle\" x=\"60.88\" y=\"-5.7\" font-family=\"Helvetica,sans-Serif\" font-size=\"14.00\">class = e</text>\n",
       "</g>\n",
       "<!-- 0&#45;&gt;1 -->\n",
       "<g id=\"edge1\" class=\"edge\">\n",
       "<title>0&#45;&gt;1</title>\n",
       "<path fill=\"none\" stroke=\"black\" d=\"M106.2,-88.68C99.89,-80.18 93.1,-71.01 86.74,-62.42\"/>\n",
       "<polygon fill=\"black\" stroke=\"black\" points=\"89.72,-60.56 80.96,-54.61 84.1,-64.73 89.72,-60.56\"/>\n",
       "<text text-anchor=\"middle\" x=\"76.37\" y=\"-72.32\" font-family=\"Helvetica,sans-Serif\" font-size=\"14.00\">True</text>\n",
       "</g>\n",
       "<!-- 2 -->\n",
       "<g id=\"node3\" class=\"node\">\n",
       "<title>2</title>\n",
       "<path fill=\"none\" stroke=\"black\" d=\"M249.75,-53C249.75,-53 152,-53 152,-53 146,-53 140,-47 140,-41 140,-41 140,-12 140,-12 140,-6 146,0 152,0 152,0 249.75,0 249.75,0 255.75,0 261.75,-6 261.75,-12 261.75,-12 261.75,-41 261.75,-41 261.75,-47 255.75,-53 249.75,-53\"/>\n",
       "<text text-anchor=\"middle\" x=\"200.88\" y=\"-35.7\" font-family=\"Helvetica,sans-Serif\" font-size=\"14.00\">samples = 48.0%</text>\n",
       "<text text-anchor=\"middle\" x=\"200.88\" y=\"-20.7\" font-family=\"Helvetica,sans-Serif\" font-size=\"14.00\">value = [0.0, 1.0]</text>\n",
       "<text text-anchor=\"middle\" x=\"200.88\" y=\"-5.7\" font-family=\"Helvetica,sans-Serif\" font-size=\"14.00\">class = p</text>\n",
       "</g>\n",
       "<!-- 0&#45;&gt;2 -->\n",
       "<g id=\"edge2\" class=\"edge\">\n",
       "<title>0&#45;&gt;2</title>\n",
       "<path fill=\"none\" stroke=\"black\" d=\"M155.55,-88.68C161.86,-80.18 168.65,-71.01 175.01,-62.42\"/>\n",
       "<polygon fill=\"black\" stroke=\"black\" points=\"177.65,-64.73 180.79,-54.61 172.03,-60.56 177.65,-64.73\"/>\n",
       "<text text-anchor=\"middle\" x=\"185.38\" y=\"-72.32\" font-family=\"Helvetica,sans-Serif\" font-size=\"14.00\">False</text>\n",
       "</g>\n",
       "</g>\n",
       "</svg>\n"
      ],
      "text/plain": [
       "<graphviz.sources.Source at 0x12ae91dd0>"
      ]
     },
     "execution_count": 41,
     "metadata": {},
     "output_type": "execute_result"
    }
   ],
   "source": [
    "dot_data = export_graphviz(clf,\n",
    "                           feature_names=mushroom_pd.columns,\n",
    "                           proportion=True,\n",
    "                           precision=2,\n",
    "                           rounded=True,\n",
    "                           class_names=label_encoder.classes_,\n",
    "                           impurity=False,\n",
    "                           leaves_parallel=True)\n",
    "\n",
    "graph = graphviz.Source(dot_data)\n",
    "graph"
   ]
  },
  {
   "cell_type": "code",
   "execution_count": 42,
   "id": "dc2762f8-3084-4093-92b7-15ab1aae5131",
   "metadata": {},
   "outputs": [],
   "source": [
    "#graph.view(filename=\"decision_tree\")"
   ]
  },
  {
   "cell_type": "markdown",
   "id": "43b6efbc-7bd3-4f22-b7be-c348d1067258",
   "metadata": {},
   "source": [
    "### Question 6:  Try values between 0.001 and 0.1. Evaluate the accuracy of the predictions from and plot the resulting trees. "
   ]
  },
  {
   "cell_type": "code",
   "execution_count": 43,
   "id": "1ce29714-52e1-4db8-8cd5-09d6ad7064e2",
   "metadata": {},
   "outputs": [
    {
     "name": "stdout",
     "output_type": "stream",
     "text": [
      "1.0\n"
     ]
    }
   ],
   "source": [
    "clf = DecisionTreeClassifier(ccp_alpha = .001)\n",
    "clf = clf.fit(X_train, y_train)\n",
    "prediction = clf.predict(X_test)\n",
    "accuracy = accuracy_score(y_test, prediction)\n",
    "print(accuracy)"
   ]
  },
  {
   "cell_type": "code",
   "execution_count": 44,
   "id": "65087c98-4d64-4538-8551-086d7c5f0274",
   "metadata": {},
   "outputs": [
    {
     "data": {
      "image/svg+xml": [
       "<?xml version=\"1.0\" encoding=\"UTF-8\" standalone=\"no\"?>\n",
       "<!DOCTYPE svg PUBLIC \"-//W3C//DTD SVG 1.1//EN\"\n",
       " \"http://www.w3.org/Graphics/SVG/1.1/DTD/svg11.dtd\">\n",
       "<!-- Generated by graphviz version 9.0.0 (20230911.1827)\n",
       " -->\n",
       "<!-- Title: Tree Pages: 1 -->\n",
       "<svg width=\"270pt\" height=\"165pt\"\n",
       " viewBox=\"0.00 0.00 269.75 165.00\" xmlns=\"http://www.w3.org/2000/svg\" xmlns:xlink=\"http://www.w3.org/1999/xlink\">\n",
       "<g id=\"graph0\" class=\"graph\" transform=\"scale(1 1) rotate(0) translate(4 161)\">\n",
       "<title>Tree</title>\n",
       "<polygon fill=\"white\" stroke=\"none\" points=\"-4,4 -4,-161 265.75,-161 265.75,4 -4,4\"/>\n",
       "<!-- 0 -->\n",
       "<g id=\"node1\" class=\"node\">\n",
       "<title>0</title>\n",
       "<path fill=\"none\" stroke=\"black\" d=\"M184.62,-157C184.62,-157 77.12,-157 77.12,-157 71.12,-157 65.12,-151 65.12,-145 65.12,-145 65.12,-101 65.12,-101 65.12,-95 71.12,-89 77.12,-89 77.12,-89 184.62,-89 184.62,-89 190.62,-89 196.62,-95 196.62,-101 196.62,-101 196.62,-145 196.62,-145 196.62,-151 190.62,-157 184.62,-157\"/>\n",
       "<text text-anchor=\"middle\" x=\"130.88\" y=\"-139.7\" font-family=\"Helvetica,sans-Serif\" font-size=\"14.00\">class_p &lt;= 0.5</text>\n",
       "<text text-anchor=\"middle\" x=\"130.88\" y=\"-124.7\" font-family=\"Helvetica,sans-Serif\" font-size=\"14.00\">samples = 100.0%</text>\n",
       "<text text-anchor=\"middle\" x=\"130.88\" y=\"-109.7\" font-family=\"Helvetica,sans-Serif\" font-size=\"14.00\">value = [0.52, 0.48]</text>\n",
       "<text text-anchor=\"middle\" x=\"130.88\" y=\"-94.7\" font-family=\"Helvetica,sans-Serif\" font-size=\"14.00\">class = e</text>\n",
       "</g>\n",
       "<!-- 1 -->\n",
       "<g id=\"node2\" class=\"node\">\n",
       "<title>1</title>\n",
       "<path fill=\"none\" stroke=\"black\" d=\"M109.75,-53C109.75,-53 12,-53 12,-53 6,-53 0,-47 0,-41 0,-41 0,-12 0,-12 0,-6 6,0 12,0 12,0 109.75,0 109.75,0 115.75,0 121.75,-6 121.75,-12 121.75,-12 121.75,-41 121.75,-41 121.75,-47 115.75,-53 109.75,-53\"/>\n",
       "<text text-anchor=\"middle\" x=\"60.88\" y=\"-35.7\" font-family=\"Helvetica,sans-Serif\" font-size=\"14.00\">samples = 52.0%</text>\n",
       "<text text-anchor=\"middle\" x=\"60.88\" y=\"-20.7\" font-family=\"Helvetica,sans-Serif\" font-size=\"14.00\">value = [1.0, 0.0]</text>\n",
       "<text text-anchor=\"middle\" x=\"60.88\" y=\"-5.7\" font-family=\"Helvetica,sans-Serif\" font-size=\"14.00\">class = e</text>\n",
       "</g>\n",
       "<!-- 0&#45;&gt;1 -->\n",
       "<g id=\"edge1\" class=\"edge\">\n",
       "<title>0&#45;&gt;1</title>\n",
       "<path fill=\"none\" stroke=\"black\" d=\"M106.2,-88.68C99.89,-80.18 93.1,-71.01 86.74,-62.42\"/>\n",
       "<polygon fill=\"black\" stroke=\"black\" points=\"89.72,-60.56 80.96,-54.61 84.1,-64.73 89.72,-60.56\"/>\n",
       "<text text-anchor=\"middle\" x=\"76.37\" y=\"-72.32\" font-family=\"Helvetica,sans-Serif\" font-size=\"14.00\">True</text>\n",
       "</g>\n",
       "<!-- 2 -->\n",
       "<g id=\"node3\" class=\"node\">\n",
       "<title>2</title>\n",
       "<path fill=\"none\" stroke=\"black\" d=\"M249.75,-53C249.75,-53 152,-53 152,-53 146,-53 140,-47 140,-41 140,-41 140,-12 140,-12 140,-6 146,0 152,0 152,0 249.75,0 249.75,0 255.75,0 261.75,-6 261.75,-12 261.75,-12 261.75,-41 261.75,-41 261.75,-47 255.75,-53 249.75,-53\"/>\n",
       "<text text-anchor=\"middle\" x=\"200.88\" y=\"-35.7\" font-family=\"Helvetica,sans-Serif\" font-size=\"14.00\">samples = 48.0%</text>\n",
       "<text text-anchor=\"middle\" x=\"200.88\" y=\"-20.7\" font-family=\"Helvetica,sans-Serif\" font-size=\"14.00\">value = [0.0, 1.0]</text>\n",
       "<text text-anchor=\"middle\" x=\"200.88\" y=\"-5.7\" font-family=\"Helvetica,sans-Serif\" font-size=\"14.00\">class = p</text>\n",
       "</g>\n",
       "<!-- 0&#45;&gt;2 -->\n",
       "<g id=\"edge2\" class=\"edge\">\n",
       "<title>0&#45;&gt;2</title>\n",
       "<path fill=\"none\" stroke=\"black\" d=\"M155.55,-88.68C161.86,-80.18 168.65,-71.01 175.01,-62.42\"/>\n",
       "<polygon fill=\"black\" stroke=\"black\" points=\"177.65,-64.73 180.79,-54.61 172.03,-60.56 177.65,-64.73\"/>\n",
       "<text text-anchor=\"middle\" x=\"185.38\" y=\"-72.32\" font-family=\"Helvetica,sans-Serif\" font-size=\"14.00\">False</text>\n",
       "</g>\n",
       "</g>\n",
       "</svg>\n"
      ],
      "text/plain": [
       "<graphviz.sources.Source at 0x12a84b990>"
      ]
     },
     "execution_count": 44,
     "metadata": {},
     "output_type": "execute_result"
    }
   ],
   "source": [
    "dot_data = export_graphviz(clf,\n",
    "                           feature_names=mushroom_pd.columns,\n",
    "                           proportion=True,\n",
    "                           precision=2,\n",
    "                           rounded=True,\n",
    "                           class_names=label_encoder.classes_,\n",
    "                           impurity=False,\n",
    "                           leaves_parallel=True)\n",
    "\n",
    "graph = graphviz.Source(dot_data)\n",
    "graph"
   ]
  },
  {
   "cell_type": "code",
   "execution_count": 45,
   "id": "2b2ebb15-6ab3-418c-82be-f010d8aa7619",
   "metadata": {},
   "outputs": [
    {
     "name": "stdout",
     "output_type": "stream",
     "text": [
      "1.0\n"
     ]
    }
   ],
   "source": [
    "clf = DecisionTreeClassifier(ccp_alpha = .1)\n",
    "clf = clf.fit(X_train, y_train)\n",
    "prediction = clf.predict(X_test)\n",
    "accuracy = accuracy_score(y_test, prediction)\n",
    "print(accuracy)"
   ]
  },
  {
   "cell_type": "code",
   "execution_count": 46,
   "id": "204fb158-78bf-4db6-bc16-9cca091a9b0d",
   "metadata": {},
   "outputs": [
    {
     "data": {
      "image/svg+xml": [
       "<?xml version=\"1.0\" encoding=\"UTF-8\" standalone=\"no\"?>\n",
       "<!DOCTYPE svg PUBLIC \"-//W3C//DTD SVG 1.1//EN\"\n",
       " \"http://www.w3.org/Graphics/SVG/1.1/DTD/svg11.dtd\">\n",
       "<!-- Generated by graphviz version 9.0.0 (20230911.1827)\n",
       " -->\n",
       "<!-- Title: Tree Pages: 1 -->\n",
       "<svg width=\"270pt\" height=\"165pt\"\n",
       " viewBox=\"0.00 0.00 269.75 165.00\" xmlns=\"http://www.w3.org/2000/svg\" xmlns:xlink=\"http://www.w3.org/1999/xlink\">\n",
       "<g id=\"graph0\" class=\"graph\" transform=\"scale(1 1) rotate(0) translate(4 161)\">\n",
       "<title>Tree</title>\n",
       "<polygon fill=\"white\" stroke=\"none\" points=\"-4,4 -4,-161 265.75,-161 265.75,4 -4,4\"/>\n",
       "<!-- 0 -->\n",
       "<g id=\"node1\" class=\"node\">\n",
       "<title>0</title>\n",
       "<path fill=\"none\" stroke=\"black\" d=\"M184.62,-157C184.62,-157 77.12,-157 77.12,-157 71.12,-157 65.12,-151 65.12,-145 65.12,-145 65.12,-101 65.12,-101 65.12,-95 71.12,-89 77.12,-89 77.12,-89 184.62,-89 184.62,-89 190.62,-89 196.62,-95 196.62,-101 196.62,-101 196.62,-145 196.62,-145 196.62,-151 190.62,-157 184.62,-157\"/>\n",
       "<text text-anchor=\"middle\" x=\"130.88\" y=\"-139.7\" font-family=\"Helvetica,sans-Serif\" font-size=\"14.00\">class_p &lt;= 0.5</text>\n",
       "<text text-anchor=\"middle\" x=\"130.88\" y=\"-124.7\" font-family=\"Helvetica,sans-Serif\" font-size=\"14.00\">samples = 100.0%</text>\n",
       "<text text-anchor=\"middle\" x=\"130.88\" y=\"-109.7\" font-family=\"Helvetica,sans-Serif\" font-size=\"14.00\">value = [0.52, 0.48]</text>\n",
       "<text text-anchor=\"middle\" x=\"130.88\" y=\"-94.7\" font-family=\"Helvetica,sans-Serif\" font-size=\"14.00\">class = e</text>\n",
       "</g>\n",
       "<!-- 1 -->\n",
       "<g id=\"node2\" class=\"node\">\n",
       "<title>1</title>\n",
       "<path fill=\"none\" stroke=\"black\" d=\"M109.75,-53C109.75,-53 12,-53 12,-53 6,-53 0,-47 0,-41 0,-41 0,-12 0,-12 0,-6 6,0 12,0 12,0 109.75,0 109.75,0 115.75,0 121.75,-6 121.75,-12 121.75,-12 121.75,-41 121.75,-41 121.75,-47 115.75,-53 109.75,-53\"/>\n",
       "<text text-anchor=\"middle\" x=\"60.88\" y=\"-35.7\" font-family=\"Helvetica,sans-Serif\" font-size=\"14.00\">samples = 52.0%</text>\n",
       "<text text-anchor=\"middle\" x=\"60.88\" y=\"-20.7\" font-family=\"Helvetica,sans-Serif\" font-size=\"14.00\">value = [1.0, 0.0]</text>\n",
       "<text text-anchor=\"middle\" x=\"60.88\" y=\"-5.7\" font-family=\"Helvetica,sans-Serif\" font-size=\"14.00\">class = e</text>\n",
       "</g>\n",
       "<!-- 0&#45;&gt;1 -->\n",
       "<g id=\"edge1\" class=\"edge\">\n",
       "<title>0&#45;&gt;1</title>\n",
       "<path fill=\"none\" stroke=\"black\" d=\"M106.2,-88.68C99.89,-80.18 93.1,-71.01 86.74,-62.42\"/>\n",
       "<polygon fill=\"black\" stroke=\"black\" points=\"89.72,-60.56 80.96,-54.61 84.1,-64.73 89.72,-60.56\"/>\n",
       "<text text-anchor=\"middle\" x=\"76.37\" y=\"-72.32\" font-family=\"Helvetica,sans-Serif\" font-size=\"14.00\">True</text>\n",
       "</g>\n",
       "<!-- 2 -->\n",
       "<g id=\"node3\" class=\"node\">\n",
       "<title>2</title>\n",
       "<path fill=\"none\" stroke=\"black\" d=\"M249.75,-53C249.75,-53 152,-53 152,-53 146,-53 140,-47 140,-41 140,-41 140,-12 140,-12 140,-6 146,0 152,0 152,0 249.75,0 249.75,0 255.75,0 261.75,-6 261.75,-12 261.75,-12 261.75,-41 261.75,-41 261.75,-47 255.75,-53 249.75,-53\"/>\n",
       "<text text-anchor=\"middle\" x=\"200.88\" y=\"-35.7\" font-family=\"Helvetica,sans-Serif\" font-size=\"14.00\">samples = 48.0%</text>\n",
       "<text text-anchor=\"middle\" x=\"200.88\" y=\"-20.7\" font-family=\"Helvetica,sans-Serif\" font-size=\"14.00\">value = [0.0, 1.0]</text>\n",
       "<text text-anchor=\"middle\" x=\"200.88\" y=\"-5.7\" font-family=\"Helvetica,sans-Serif\" font-size=\"14.00\">class = p</text>\n",
       "</g>\n",
       "<!-- 0&#45;&gt;2 -->\n",
       "<g id=\"edge2\" class=\"edge\">\n",
       "<title>0&#45;&gt;2</title>\n",
       "<path fill=\"none\" stroke=\"black\" d=\"M155.55,-88.68C161.86,-80.18 168.65,-71.01 175.01,-62.42\"/>\n",
       "<polygon fill=\"black\" stroke=\"black\" points=\"177.65,-64.73 180.79,-54.61 172.03,-60.56 177.65,-64.73\"/>\n",
       "<text text-anchor=\"middle\" x=\"185.38\" y=\"-72.32\" font-family=\"Helvetica,sans-Serif\" font-size=\"14.00\">False</text>\n",
       "</g>\n",
       "</g>\n",
       "</svg>\n"
      ],
      "text/plain": [
       "<graphviz.sources.Source at 0x12a91ac10>"
      ]
     },
     "execution_count": 46,
     "metadata": {},
     "output_type": "execute_result"
    }
   ],
   "source": [
    "dot_data = export_graphviz(clf,\n",
    "                           feature_names=mushroom_pd.columns,\n",
    "                           proportion=True,\n",
    "                           precision=2,\n",
    "                           rounded=True,\n",
    "                           class_names=label_encoder.classes_,\n",
    "                           impurity=False,\n",
    "                           leaves_parallel=True)\n",
    "\n",
    "graph = graphviz.Source(dot_data)\n",
    "graph"
   ]
  },
  {
   "cell_type": "markdown",
   "id": "675768a6-1ab8-4f77-8d01-77ca97a0b38b",
   "metadata": {},
   "source": [
    "## Part 5"
   ]
  },
  {
   "cell_type": "markdown",
   "id": "9fffb756-3545-4515-a98a-efd482488175",
   "metadata": {},
   "source": [
    "### Question 1: Train a Logistic Regression model using the SGDClassifier class with the parameter loss=\"log\"."
   ]
  },
  {
   "cell_type": "code",
   "execution_count": 56,
   "id": "c6e216fd-81fa-4945-a0d9-4bc2db8e84bc",
   "metadata": {},
   "outputs": [],
   "source": [
    "logistic_model = SGDClassifier(loss=\"log_loss\")\n",
    "logistic_model.fit(X_train, y_train)"
   ]
  },
  {
   "cell_type": "markdown",
   "id": "aa60a548-3834-4e6c-a161-57d0ab89a936",
   "metadata": {},
   "source": [
    "### Question 2: Evaluate the model using accuracy and confusion matrix."
   ]
  },
  {
   "cell_type": "code",
   "execution_count": 57,
   "id": "7df8c1ef-ac45-45e1-8f15-785bff0996bc",
   "metadata": {},
   "outputs": [
    {
     "name": "stdout",
     "output_type": "stream",
     "text": [
      "Accuracy: 1.0\n"
     ]
    }
   ],
   "source": [
    "prediction = logistic_model.predict(X_test)\n",
    "accuracy = accuracy_score(y_test, prediction)\n",
    "print(\"Accuracy:\", accuracy)"
   ]
  },
  {
   "cell_type": "code",
   "execution_count": 58,
   "id": "72be32da-edc0-46cb-921c-0d9b63f061d9",
   "metadata": {},
   "outputs": [
    {
     "name": "stdout",
     "output_type": "stream",
     "text": [
      "[[1040    0]\n",
      " [   0  991]]\n"
     ]
    }
   ],
   "source": [
    "confusion = confusion_matrix(y_test, prediction)\n",
    "print(confusion)"
   ]
  },
  {
   "cell_type": "markdown",
   "id": "d4dad64c-36ec-4e31-bfa9-7e124c782dd1",
   "metadata": {},
   "source": [
    "### Question 3: Use the predict_proba() method to get the estimated probabilities. This will be a samples x 2 array – only use the first column. Plot a histogram of the probabilities using Seaborn's histplot() function. Observe that the probabilities are very bimodal in this case."
   ]
  },
  {
   "cell_type": "code",
   "execution_count": 60,
   "id": "e4242ca4-fbf6-4644-82a3-cde52f8a27b6",
   "metadata": {},
   "outputs": [
    {
     "name": "stderr",
     "output_type": "stream",
     "text": [
      "/Users/tylergraham/Desktop/CS5610/csc5610/lib/python3.11/site-packages/seaborn/_oldcore.py:1498: FutureWarning: is_categorical_dtype is deprecated and will be removed in a future version. Use isinstance(dtype, CategoricalDtype) instead\n",
      "  if pd.api.types.is_categorical_dtype(vector):\n",
      "/Users/tylergraham/Desktop/CS5610/csc5610/lib/python3.11/site-packages/seaborn/_oldcore.py:1119: FutureWarning: use_inf_as_na option is deprecated and will be removed in a future version. Convert inf values to NaN before operating instead.\n",
      "  with pd.option_context('mode.use_inf_as_na', True):\n"
     ]
    },
    {
     "data": {
      "image/png": "[encoded data removed]",
      "text/plain": [
       "<Figure size 640x480 with 1 Axes>"
      ]
     },
     "metadata": {},
     "output_type": "display_data"
    }
   ],
   "source": [
    "predicted_probabilities = logistic_model.predict_proba(X_test)\n",
    "\n",
    "# Step 3: Create a histogram of the probabilities using Seaborn's histplot()\n",
    "sns.histplot(predicted_probabilities[:, 0], bins=50, kde=True)\n",
    "plt.xlabel('Estimated Probabilities (Class 0)')\n",
    "plt.ylabel('Frequency')\n",
    "plt.title('Histogram of Estimated Probabilities')\n",
    "plt.show()"
   ]
  },
  {
   "cell_type": "markdown",
   "id": "e4c1b61a-aab0-46d1-bc81-4e5f93b5edc5",
   "metadata": {},
   "source": [
    "### Question 6: Inspect the model weights. The SGDClassifier has a 1 x features array coef_ that contains the learned weights. Plot a histogram of the weights using the first (and only row). The weights with the largest magnitudes indicate features with the most predictive power."
   ]
  },
  {
   "cell_type": "code",
   "execution_count": 62,
   "id": "d5aabd96-8bdb-4e3f-860b-44e2f4948544",
   "metadata": {},
   "outputs": [
    {
     "data": {
      "image/png": "[encoded data removed]",
      "text/plain": [
       "<Figure size 640x480 with 1 Axes>"
      ]
     },
     "metadata": {},
     "output_type": "display_data"
    }
   ],
   "source": [
    "# Access the model weights\n",
    "weights = logistic_model.coef_\n",
    "\n",
    "# Plot a histogram of the weights (first row)\n",
    "plt.hist(weights[0], bins=50, edgecolor='k')\n",
    "plt.xlabel('Model Weights')\n",
    "plt.ylabel('Frequency')\n",
    "plt.title('Histogram of Model Weights')\n",
    "plt.show()"
   ]
  },
  {
   "cell_type": "code",
   "execution_count": null,
   "id": "d01892d6-a2db-4701-9bca-450ed4cf1048",
   "metadata": {},
   "outputs": [],
   "source": []
  }
 ],
 "metadata": {
  "kernelspec": {
   "display_name": "Python 3 (ipykernel)",
   "language": "python",
   "name": "python3"
  },
  "language_info": {
   "codemirror_mode": {
    "name": "ipython",
    "version": 3
   },
   "file_extension": ".py",
   "mimetype": "text/x-python",
   "name": "python",
   "nbconvert_exporter": "python",
   "pygments_lexer": "ipython3",
   "version": "3.11.4"
  }
 },
 "nbformat": 4,
 "nbformat_minor": 5
}
