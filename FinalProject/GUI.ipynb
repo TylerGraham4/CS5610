{
 "cells": [
  {
   "cell_type": "code",
   "execution_count": 2,
   "id": "c3123731-050c-466b-8b2c-d36f3ce0cf88",
   "metadata": {},
   "outputs": [
    {
     "ename": "NameError",
     "evalue": "name 'unique_symptoms' is not defined",
     "output_type": "error",
     "traceback": [
      "\u001b[1;31m---------------------------------------------------------------------------\u001b[0m",
      "\u001b[1;31mNameError\u001b[0m                                 Traceback (most recent call last)",
      "\u001b[1;32m<ipython-input-2-32bf84c25975>\u001b[0m in \u001b[0;36m<module>\u001b[1;34m\u001b[0m\n\u001b[0;32m     35\u001b[0m \u001b[1;31m# logo_label.pack(pady=10)\u001b[0m\u001b[1;33m\u001b[0m\u001b[1;33m\u001b[0m\u001b[1;33m\u001b[0m\u001b[0m\n\u001b[0;32m     36\u001b[0m \u001b[1;33m\u001b[0m\u001b[0m\n\u001b[1;32m---> 37\u001b[1;33m \u001b[0msymptoms\u001b[0m \u001b[1;33m=\u001b[0m \u001b[0munique_symptoms\u001b[0m\u001b[1;33m\u001b[0m\u001b[1;33m\u001b[0m\u001b[0m\n\u001b[0m\u001b[0;32m     38\u001b[0m \u001b[0msymptom1\u001b[0m \u001b[1;33m=\u001b[0m \u001b[0mttk\u001b[0m\u001b[1;33m.\u001b[0m\u001b[0mCombobox\u001b[0m\u001b[1;33m(\u001b[0m\u001b[0mroot\u001b[0m\u001b[1;33m,\u001b[0m \u001b[0mvalues\u001b[0m\u001b[1;33m=\u001b[0m\u001b[0msymptoms\u001b[0m\u001b[1;33m)\u001b[0m\u001b[1;33m\u001b[0m\u001b[1;33m\u001b[0m\u001b[0m\n\u001b[0;32m     39\u001b[0m \u001b[0msymptom1\u001b[0m\u001b[1;33m.\u001b[0m\u001b[0mpack\u001b[0m\u001b[1;33m(\u001b[0m\u001b[0mpady\u001b[0m\u001b[1;33m=\u001b[0m\u001b[1;36m5\u001b[0m\u001b[1;33m)\u001b[0m\u001b[1;33m\u001b[0m\u001b[1;33m\u001b[0m\u001b[0m\n",
      "\u001b[1;31mNameError\u001b[0m: name 'unique_symptoms' is not defined"
     ]
    }
   ],
   "source": [
    "import tkinter as tk\n",
    "from tkinter import ttk\n",
    "from tkinter import PhotoImage\n",
    "from PIL import Image, ImageTk\n",
    "\n",
    "# Declare logo_image as a global variable\n",
    "logo_image = None\n",
    "\n",
    "def predict_disease():\n",
    "    # Implement your prediction logic here\n",
    "    selected_symptoms = [symptom1.get(), symptom2.get(), symptom3.get()]\n",
    "    # Create a new DataFrame with the same columns as original_df\n",
    "    new_df = pd.DataFrame(columns=cleaned_df.columns)\n",
    "    new_df = new_df.drop('encoded_disease',axis=1)\n",
    "    new_df = new_df.drop('Disease',axis=1)\n",
    "    # Iterate through the selected symptoms\n",
    "    for symptom in selected_symptoms:\n",
    "        # Check if the symptom is a column in the original DataFrame\n",
    "        if symptom in cleaned_df.columns:\n",
    "            # Update the corresponding column to have a value of 1\n",
    "            new_df[symptom] = 1\n",
    "     # Make predictions using the decision tree model\n",
    "    predictions = decision_tree_model.predict(new_df)\n",
    "    \n",
    "    # Example result display\n",
    "    result_label.config(text=\"Predicted disease: {}\".format(predictions[0]))\n",
    "\n",
    "root = tk.Tk()\n",
    "root.title(\"Disease Predictor\")\n",
    "\n",
    "# Using Pillow to open and resize the image (optional)\n",
    "# logo_image = ImageTk.PhotoImage(Image.open(\"logo.png\"))\n",
    "\n",
    "# logo_label = tk.Label(root,image=logo_image)\n",
    "# logo_label.pack(pady=10)\n",
    "\n",
    "symptoms = unique_symptoms\n",
    "symptom1 = ttk.Combobox(root, values=symptoms)\n",
    "symptom1.pack(pady=5)\n",
    "symptom2 = ttk.Combobox(root, values=symptoms)\n",
    "symptom2.pack(pady=5)\n",
    "symptom3 = ttk.Combobox(root, values=symptoms)\n",
    "symptom3.pack(pady=5)\n",
    "\n",
    "predict_button = tk.Button(root, text=\"Predict Disease\", command=predict_disease)\n",
    "predict_button.pack(pady=10)\n",
    "\n",
    "result_label = tk.Label(root, text=\"\")\n",
    "result_label.pack(pady=10)\n",
    "\n",
    "root.mainloop()\n"
   ]
  },
  {
   "cell_type": "code",
   "execution_count": null,
   "id": "e8773e2a",
   "metadata": {},
   "outputs": [],
   "source": []
  }
 ],
 "metadata": {
  "kernelspec": {
   "display_name": "Python 3",
   "language": "python",
   "name": "python3"
  },
  "language_info": {
   "codemirror_mode": {
    "name": "ipython",
    "version": 3
   },
   "file_extension": ".py",
   "mimetype": "text/x-python",
   "name": "python",
   "nbconvert_exporter": "python",
   "pygments_lexer": "ipython3",
   "version": "3.8.8"
  }
 },
 "nbformat": 4,
 "nbformat_minor": 5
}
