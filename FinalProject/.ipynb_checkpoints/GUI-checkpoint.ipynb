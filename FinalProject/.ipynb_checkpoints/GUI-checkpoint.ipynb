{
 "cells": [
  {
   "cell_type": "code",
   "execution_count": 1,
   "id": "c3123731-050c-466b-8b2c-d36f3ce0cf88",
   "metadata": {},
   "outputs": [
    {
     "ename": "FileNotFoundError",
     "evalue": "[Errno 2] No such file or directory: 'logo.png'",
     "output_type": "error",
     "traceback": [
      "\u001b[1;31m---------------------------------------------------------------------------\u001b[0m",
      "\u001b[1;31mFileNotFoundError\u001b[0m                         Traceback (most recent call last)",
      "\u001b[1;32m<ipython-input-1-7d4e7b4a9404>\u001b[0m in \u001b[0;36m<module>\u001b[1;34m\u001b[0m\n\u001b[0;32m     30\u001b[0m \u001b[1;33m\u001b[0m\u001b[0m\n\u001b[0;32m     31\u001b[0m \u001b[1;31m# Using Pillow to open and resize the image (optional)\u001b[0m\u001b[1;33m\u001b[0m\u001b[1;33m\u001b[0m\u001b[1;33m\u001b[0m\u001b[0m\n\u001b[1;32m---> 32\u001b[1;33m \u001b[0mlogo_image\u001b[0m \u001b[1;33m=\u001b[0m \u001b[0mImageTk\u001b[0m\u001b[1;33m.\u001b[0m\u001b[0mPhotoImage\u001b[0m\u001b[1;33m(\u001b[0m\u001b[0mImage\u001b[0m\u001b[1;33m.\u001b[0m\u001b[0mopen\u001b[0m\u001b[1;33m(\u001b[0m\u001b[1;34m\"logo.png\"\u001b[0m\u001b[1;33m)\u001b[0m\u001b[1;33m)\u001b[0m\u001b[1;33m\u001b[0m\u001b[1;33m\u001b[0m\u001b[0m\n\u001b[0m\u001b[0;32m     33\u001b[0m \u001b[1;33m\u001b[0m\u001b[0m\n\u001b[0;32m     34\u001b[0m \u001b[0mlogo_label\u001b[0m \u001b[1;33m=\u001b[0m \u001b[0mtk\u001b[0m\u001b[1;33m.\u001b[0m\u001b[0mLabel\u001b[0m\u001b[1;33m(\u001b[0m\u001b[0mroot\u001b[0m\u001b[1;33m,\u001b[0m\u001b[0mimage\u001b[0m\u001b[1;33m=\u001b[0m\u001b[0mlogo_image\u001b[0m\u001b[1;33m)\u001b[0m\u001b[1;33m\u001b[0m\u001b[1;33m\u001b[0m\u001b[0m\n",
      "\u001b[1;32mC:\\ProgramData\\Anaconda3\\lib\\site-packages\\PIL\\Image.py\u001b[0m in \u001b[0;36mopen\u001b[1;34m(fp, mode, formats)\u001b[0m\n\u001b[0;32m   2910\u001b[0m \u001b[1;33m\u001b[0m\u001b[0m\n\u001b[0;32m   2911\u001b[0m     \u001b[1;32mif\u001b[0m \u001b[0mfilename\u001b[0m\u001b[1;33m:\u001b[0m\u001b[1;33m\u001b[0m\u001b[1;33m\u001b[0m\u001b[0m\n\u001b[1;32m-> 2912\u001b[1;33m         \u001b[0mfp\u001b[0m \u001b[1;33m=\u001b[0m \u001b[0mbuiltins\u001b[0m\u001b[1;33m.\u001b[0m\u001b[0mopen\u001b[0m\u001b[1;33m(\u001b[0m\u001b[0mfilename\u001b[0m\u001b[1;33m,\u001b[0m \u001b[1;34m\"rb\"\u001b[0m\u001b[1;33m)\u001b[0m\u001b[1;33m\u001b[0m\u001b[1;33m\u001b[0m\u001b[0m\n\u001b[0m\u001b[0;32m   2913\u001b[0m         \u001b[0mexclusive_fp\u001b[0m \u001b[1;33m=\u001b[0m \u001b[1;32mTrue\u001b[0m\u001b[1;33m\u001b[0m\u001b[1;33m\u001b[0m\u001b[0m\n\u001b[0;32m   2914\u001b[0m \u001b[1;33m\u001b[0m\u001b[0m\n",
      "\u001b[1;31mFileNotFoundError\u001b[0m: [Errno 2] No such file or directory: 'logo.png'"
     ]
    }
   ],
   "source": [
    "import tkinter as tk\n",
    "from tkinter import ttk\n",
    "from tkinter import PhotoImage\n",
    "from PIL import Image, ImageTk\n",
    "\n",
    "# Declare logo_image as a global variable\n",
    "logo_image = None\n",
    "\n",
    "def predict_disease():\n",
    "    # Implement your prediction logic here\n",
    "    selected_symptoms = [symptom1.get(), symptom2.get(), symptom3.get()]\n",
    "    # Create a new DataFrame with the same columns as original_df\n",
    "    new_df = pd.DataFrame(columns=cleaned_df.columns)\n",
    "    new_df = new_df.drop('encoded_disease',axis=1)\n",
    "    new_df = new_df.drop('Disease',axis=1)\n",
    "    # Iterate through the selected symptoms\n",
    "    for symptom in selected_symptoms:\n",
    "        # Check if the symptom is a column in the original DataFrame\n",
    "        if symptom in cleaned_df.columns:\n",
    "            # Update the corresponding column to have a value of 1\n",
    "            new_df[symptom] = 1\n",
    "     # Make predictions using the decision tree model\n",
    "    predictions = decision_tree_model.predict(new_df)\n",
    "    \n",
    "    # Example result display\n",
    "    result_label.config(text=\"Predicted disease: {}\".format(predictions[0]))\n",
    "\n",
    "root = tk.Tk()\n",
    "root.title(\"Disease Predictor\")\n",
    "\n",
    "# Using Pillow to open and resize the image (optional)\n",
    "logo_image = ImageTk.PhotoImage(Image.open(\"logo.png\"))\n",
    "\n",
    "logo_label = tk.Label(root,image=logo_image)\n",
    "logo_label.pack(pady=10)\n",
    "\n",
    "symptoms = unique_symptoms\n",
    "symptom1 = ttk.Combobox(root, values=symptoms)\n",
    "symptom1.pack(pady=5)\n",
    "symptom2 = ttk.Combobox(root, values=symptoms)\n",
    "symptom2.pack(pady=5)\n",
    "symptom3 = ttk.Combobox(root, values=symptoms)\n",
    "symptom3.pack(pady=5)\n",
    "\n",
    "predict_button = tk.Button(root, text=\"Predict Disease\", command=predict_disease)\n",
    "predict_button.pack(pady=10)\n",
    "\n",
    "result_label = tk.Label(root, text=\"\")\n",
    "result_label.pack(pady=10)\n",
    "\n",
    "root.mainloop()\n"
   ]
  },
  {
   "cell_type": "code",
   "execution_count": null,
   "id": "f4ad1b6f",
   "metadata": {},
   "outputs": [],
   "source": []
  }
 ],
 "metadata": {
  "kernelspec": {
   "display_name": "Python 3",
   "language": "python",
   "name": "python3"
  },
  "language_info": {
   "codemirror_mode": {
    "name": "ipython",
    "version": 3
   },
   "file_extension": ".py",
   "mimetype": "text/x-python",
   "name": "python",
   "nbconvert_exporter": "python",
   "pygments_lexer": "ipython3",
   "version": "3.8.8"
  }
 },
 "nbformat": 4,
 "nbformat_minor": 5
}
